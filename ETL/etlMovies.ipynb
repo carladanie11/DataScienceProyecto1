{
 "cells": [
  {
   "cell_type": "markdown",
   "metadata": {},
   "source": [
    "ETL 'movies_dataset'"
   ]
  },
  {
   "cell_type": "code",
   "execution_count": 7,
   "metadata": {},
   "outputs": [],
   "source": [
    "import pandas as pd"
   ]
  },
  {
   "cell_type": "code",
   "execution_count": 8,
   "metadata": {},
   "outputs": [
    {
     "name": "stdout",
     "output_type": "stream",
     "text": [
      "El dataset 'movies_dataset.csv' tiene: 45466 filas y 24 columnas\n"
     ]
    },
    {
     "name": "stderr",
     "output_type": "stream",
     "text": [
      "/tmp/ipykernel_9301/3694486896.py:3: DtypeWarning: Columns (10) have mixed types. Specify dtype option on import or set low_memory=False.\n",
      "  movie_shape = pd.read_csv('../Datasets/Raw/Movies-20241029T210135Z-001/Movies/movies_dataset.csv').shape\n"
     ]
    }
   ],
   "source": [
    "\n",
    "# Para el dataset de movies_dataset verifico el numero de filas y columnas\n",
    "movie_df = pd.read_csv('../Datasets/Raw/Movies-20241029T210135Z-001/Movies/movies_dataset.csv', nrows=1)\n",
    "movie_shape = pd.read_csv('../Datasets/Raw/Movies-20241029T210135Z-001/Movies/movies_dataset.csv').shape\n",
    "\n",
    "print(\"El dataset 'movies_dataset.csv' tiene:\", movie_shape[0], \"filas y\", movie_shape[1], \"columnas\")\n"
   ]
  },
  {
   "cell_type": "code",
   "execution_count": null,
   "metadata": {},
   "outputs": [],
   "source": []
  }
 ],
 "metadata": {
  "kernelspec": {
   "display_name": "proyectDS",
   "language": "python",
   "name": "python3"
  },
  "language_info": {
   "codemirror_mode": {
    "name": "ipython",
    "version": 3
   },
   "file_extension": ".py",
   "mimetype": "text/x-python",
   "name": "python",
   "nbconvert_exporter": "python",
   "pygments_lexer": "ipython3",
   "version": "3.11.10"
  }
 },
 "nbformat": 4,
 "nbformat_minor": 2
}
