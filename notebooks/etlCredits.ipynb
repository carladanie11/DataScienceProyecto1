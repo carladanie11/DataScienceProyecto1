{
 "cells": [
  {
   "cell_type": "code",
   "execution_count": 1,
   "metadata": {},
   "outputs": [
    {
     "name": "stdout",
     "output_type": "stream",
     "text": [
      "El dataset 'credits.csv' tiene: 45476 filas y 3 columnas\n"
     ]
    }
   ],
   "source": [
    "import pandas as pd\n",
    "\n",
    "# Para el dataset de credits\n",
    "credits_df = pd.read_csv('..//Datasets/Raw/Movies-20241029T210135Z-001/Movies/credits.csv', nrows=1)\n",
    "credits_shape = pd.read_csv('../Datasets/Raw/Movies-20241029T210135Z-001/Movies/credits.csv').shape\n",
    "\n",
    "print(\"El dataset 'credits.csv' tiene:\", credits_shape[0], \"filas y\", credits_shape[1], \"columnas\")"
   ]
  }
 ],
 "metadata": {
  "kernelspec": {
   "display_name": "proyectDS",
   "language": "python",
   "name": "python3"
  },
  "language_info": {
   "codemirror_mode": {
    "name": "ipython",
    "version": 3
   },
   "file_extension": ".py",
   "mimetype": "text/x-python",
   "name": "python",
   "nbconvert_exporter": "python",
   "pygments_lexer": "ipython3",
   "version": "3.11.10"
  }
 },
 "nbformat": 4,
 "nbformat_minor": 2
}
