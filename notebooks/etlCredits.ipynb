{
 "cells": [
  {
   "cell_type": "markdown",
   "metadata": {},
   "source": [
    "ETL 'credits'"
   ]
  },
  {
   "cell_type": "code",
   "execution_count": 1,
   "metadata": {},
   "outputs": [],
   "source": [
    "# Paso 1: Agregar la ruta de funciones a sys.path\n",
    "import sys\n",
    "import os\n",
    "\n",
    "sys.path.append(os.path.abspath(os.path.join('..', 'code')))"
   ]
  },
  {
   "cell_type": "code",
   "execution_count": null,
   "metadata": {},
   "outputs": [
    {
     "name": "stdout",
     "output_type": "stream",
     "text": [
      "True\n"
     ]
    }
   ],
   "source": [
    "print(os.path.abspath(os.path.join('..', 'code')) in sys.path)"
   ]
  },
  {
   "cell_type": "markdown",
   "metadata": {},
   "source": [
    "Conversion credits.csv a formato parquet"
   ]
  },
  {
   "cell_type": "code",
   "execution_count": 3,
   "metadata": {},
   "outputs": [],
   "source": [
    "from CSVtoPARQUET import convertir_csv_a_parquet\n",
    "\n",
    "df = convertir_csv_a_parquet(\n",
    "    csv_path='../data/Raw/Movies-20241026T022341Z-001/Movies/credits.csv', \n",
    "    parquet_path='../data/processed_data/credits.parquet'    \n",
    ")"
   ]
  },
  {
   "cell_type": "code",
   "execution_count": 4,
   "metadata": {},
   "outputs": [
    {
     "data": {
      "text/html": [
       "<div>\n",
       "<style scoped>\n",
       "    .dataframe tbody tr th:only-of-type {\n",
       "        vertical-align: middle;\n",
       "    }\n",
       "\n",
       "    .dataframe tbody tr th {\n",
       "        vertical-align: top;\n",
       "    }\n",
       "\n",
       "    .dataframe thead th {\n",
       "        text-align: right;\n",
       "    }\n",
       "</style>\n",
       "<table border=\"1\" class=\"dataframe\">\n",
       "  <thead>\n",
       "    <tr style=\"text-align: right;\">\n",
       "      <th></th>\n",
       "      <th>cast</th>\n",
       "      <th>crew</th>\n",
       "      <th>id</th>\n",
       "    </tr>\n",
       "  </thead>\n",
       "  <tbody>\n",
       "    <tr>\n",
       "      <th>0</th>\n",
       "      <td>[{'cast_id': 14, 'character': 'Woody (voice)',...</td>\n",
       "      <td>[{'credit_id': '52fe4284c3a36847f8024f49', 'de...</td>\n",
       "      <td>862</td>\n",
       "    </tr>\n",
       "    <tr>\n",
       "      <th>1</th>\n",
       "      <td>[{'cast_id': 1, 'character': 'Alan Parrish', '...</td>\n",
       "      <td>[{'credit_id': '52fe44bfc3a36847f80a7cd1', 'de...</td>\n",
       "      <td>8844</td>\n",
       "    </tr>\n",
       "    <tr>\n",
       "      <th>2</th>\n",
       "      <td>[{'cast_id': 2, 'character': 'Max Goldman', 'c...</td>\n",
       "      <td>[{'credit_id': '52fe466a9251416c75077a89', 'de...</td>\n",
       "      <td>15602</td>\n",
       "    </tr>\n",
       "    <tr>\n",
       "      <th>3</th>\n",
       "      <td>[{'cast_id': 1, 'character': \"Savannah 'Vannah...</td>\n",
       "      <td>[{'credit_id': '52fe44779251416c91011acb', 'de...</td>\n",
       "      <td>31357</td>\n",
       "    </tr>\n",
       "    <tr>\n",
       "      <th>4</th>\n",
       "      <td>[{'cast_id': 1, 'character': 'George Banks', '...</td>\n",
       "      <td>[{'credit_id': '52fe44959251416c75039ed7', 'de...</td>\n",
       "      <td>11862</td>\n",
       "    </tr>\n",
       "  </tbody>\n",
       "</table>\n",
       "</div>"
      ],
      "text/plain": [
       "                                                cast  \\\n",
       "0  [{'cast_id': 14, 'character': 'Woody (voice)',...   \n",
       "1  [{'cast_id': 1, 'character': 'Alan Parrish', '...   \n",
       "2  [{'cast_id': 2, 'character': 'Max Goldman', 'c...   \n",
       "3  [{'cast_id': 1, 'character': \"Savannah 'Vannah...   \n",
       "4  [{'cast_id': 1, 'character': 'George Banks', '...   \n",
       "\n",
       "                                                crew     id  \n",
       "0  [{'credit_id': '52fe4284c3a36847f8024f49', 'de...    862  \n",
       "1  [{'credit_id': '52fe44bfc3a36847f80a7cd1', 'de...   8844  \n",
       "2  [{'credit_id': '52fe466a9251416c75077a89', 'de...  15602  \n",
       "3  [{'credit_id': '52fe44779251416c91011acb', 'de...  31357  \n",
       "4  [{'credit_id': '52fe44959251416c75039ed7', 'de...  11862  "
      ]
     },
     "execution_count": 4,
     "metadata": {},
     "output_type": "execute_result"
    }
   ],
   "source": [
    "import pandas as pd\n",
    "\n",
    "df = pd.read_parquet(r'../data/processed_data/credits.parquet')\n",
    "df.head(5)"
   ]
  },
  {
   "cell_type": "markdown",
   "metadata": {},
   "source": [
    "Desanidar cast"
   ]
  },
  {
   "cell_type": "code",
   "execution_count": 5,
   "metadata": {},
   "outputs": [
    {
     "data": {
      "text/plain": [
       "cast\n",
       "<class 'str'>    45476\n",
       "Name: count, dtype: int64"
      ]
     },
     "execution_count": 5,
     "metadata": {},
     "output_type": "execute_result"
    }
   ],
   "source": [
    "# Verificar la distribución de los tipos de datos en la columna\n",
    "df['cast'].apply(type).value_counts() "
   ]
  },
  {
   "cell_type": "code",
   "execution_count": 6,
   "metadata": {},
   "outputs": [
    {
     "data": {
      "text/html": [
       "<div>\n",
       "<style scoped>\n",
       "    .dataframe tbody tr th:only-of-type {\n",
       "        vertical-align: middle;\n",
       "    }\n",
       "\n",
       "    .dataframe tbody tr th {\n",
       "        vertical-align: top;\n",
       "    }\n",
       "\n",
       "    .dataframe thead th {\n",
       "        text-align: right;\n",
       "    }\n",
       "</style>\n",
       "<table border=\"1\" class=\"dataframe\">\n",
       "  <thead>\n",
       "    <tr style=\"text-align: right;\">\n",
       "      <th></th>\n",
       "      <th>cast</th>\n",
       "    </tr>\n",
       "  </thead>\n",
       "  <tbody>\n",
       "    <tr>\n",
       "      <th>0</th>\n",
       "      <td>[{'cast_id': 14, 'character': 'Woody (voice)',...</td>\n",
       "    </tr>\n",
       "    <tr>\n",
       "      <th>1</th>\n",
       "      <td>[{'cast_id': 1, 'character': 'Alan Parrish', '...</td>\n",
       "    </tr>\n",
       "    <tr>\n",
       "      <th>2</th>\n",
       "      <td>[{'cast_id': 2, 'character': 'Max Goldman', 'c...</td>\n",
       "    </tr>\n",
       "    <tr>\n",
       "      <th>3</th>\n",
       "      <td>[{'cast_id': 1, 'character': 'Savannah 'Vannah...</td>\n",
       "    </tr>\n",
       "    <tr>\n",
       "      <th>4</th>\n",
       "      <td>[{'cast_id': 1, 'character': 'George Banks', '...</td>\n",
       "    </tr>\n",
       "    <tr>\n",
       "      <th>5</th>\n",
       "      <td>[{'cast_id': 25, 'character': 'Lt. Vincent Han...</td>\n",
       "    </tr>\n",
       "  </tbody>\n",
       "</table>\n",
       "</div>"
      ],
      "text/plain": [
       "                                                cast\n",
       "0  [{'cast_id': 14, 'character': 'Woody (voice)',...\n",
       "1  [{'cast_id': 1, 'character': 'Alan Parrish', '...\n",
       "2  [{'cast_id': 2, 'character': 'Max Goldman', 'c...\n",
       "3  [{'cast_id': 1, 'character': 'Savannah 'Vannah...\n",
       "4  [{'cast_id': 1, 'character': 'George Banks', '...\n",
       "5  [{'cast_id': 25, 'character': 'Lt. Vincent Han..."
      ]
     },
     "execution_count": 6,
     "metadata": {},
     "output_type": "execute_result"
    }
   ],
   "source": [
    "# convertir la columa a una lista de diccionarios\n",
    "from STRtoLISToDICT import convert_list_dict\n",
    "\n",
    "df['cast'] = df['cast'].apply(convert_list_dict)\n",
    "\n",
    "# Mostrar el DataFrame con los tipos corregidos\n",
    "df[['cast']].head(6)"
   ]
  },
  {
   "cell_type": "code",
   "execution_count": 7,
   "metadata": {},
   "outputs": [
    {
     "data": {
      "text/plain": [
       "cast\n",
       "<class 'list'>    45476\n",
       "Name: count, dtype: int64"
      ]
     },
     "execution_count": 7,
     "metadata": {},
     "output_type": "execute_result"
    }
   ],
   "source": [
    "# verificar cuántos valores en la columna cast son del tipo dict, list, o NoneType\n",
    "df['cast'].apply(type).value_counts() "
   ]
  },
  {
   "cell_type": "code",
   "execution_count": 8,
   "metadata": {},
   "outputs": [
    {
     "data": {
      "text/html": [
       "<div>\n",
       "<style scoped>\n",
       "    .dataframe tbody tr th:only-of-type {\n",
       "        vertical-align: middle;\n",
       "    }\n",
       "\n",
       "    .dataframe tbody tr th {\n",
       "        vertical-align: top;\n",
       "    }\n",
       "\n",
       "    .dataframe thead th {\n",
       "        text-align: right;\n",
       "    }\n",
       "</style>\n",
       "<table border=\"1\" class=\"dataframe\">\n",
       "  <thead>\n",
       "    <tr style=\"text-align: right;\">\n",
       "      <th></th>\n",
       "      <th>cast_id</th>\n",
       "      <th>character</th>\n",
       "      <th>credit_id</th>\n",
       "      <th>gender</th>\n",
       "      <th>id</th>\n",
       "      <th>name</th>\n",
       "      <th>order</th>\n",
       "      <th>profile_path</th>\n",
       "    </tr>\n",
       "  </thead>\n",
       "  <tbody>\n",
       "    <tr>\n",
       "      <th>0</th>\n",
       "      <td>0</td>\n",
       "      <td>Woody (voice)</td>\n",
       "      <td>52fe4284c3a36847f8024f95</td>\n",
       "      <td>2.0</td>\n",
       "      <td>31.0</td>\n",
       "      <td>Tom Hanks</td>\n",
       "      <td>0.0</td>\n",
       "      <td>/pQFoyx7rp09CJTAb932F2g8Nlho.jpg</td>\n",
       "    </tr>\n",
       "    <tr>\n",
       "      <th>1</th>\n",
       "      <td>0</td>\n",
       "      <td>Buzz Lightyear (voice)</td>\n",
       "      <td>52fe4284c3a36847f8024f99</td>\n",
       "      <td>2.0</td>\n",
       "      <td>12898.0</td>\n",
       "      <td>Tim Allen</td>\n",
       "      <td>1.0</td>\n",
       "      <td>/uX2xVf6pMmPepxnvFWyBtjexzgY.jpg</td>\n",
       "    </tr>\n",
       "    <tr>\n",
       "      <th>2</th>\n",
       "      <td>0</td>\n",
       "      <td>Mr. Potato Head (voice)</td>\n",
       "      <td>52fe4284c3a36847f8024f9d</td>\n",
       "      <td>2.0</td>\n",
       "      <td>7167.0</td>\n",
       "      <td>Don Rickles</td>\n",
       "      <td>2.0</td>\n",
       "      <td>/h5BcaDMPRVLHLDzbQavec4xfSdt.jpg</td>\n",
       "    </tr>\n",
       "    <tr>\n",
       "      <th>3</th>\n",
       "      <td>0</td>\n",
       "      <td>Slinky Dog (voice)</td>\n",
       "      <td>52fe4284c3a36847f8024fa1</td>\n",
       "      <td>2.0</td>\n",
       "      <td>12899.0</td>\n",
       "      <td>Jim Varney</td>\n",
       "      <td>3.0</td>\n",
       "      <td>/eIo2jVVXYgjDtaHoF19Ll9vtW7h.jpg</td>\n",
       "    </tr>\n",
       "    <tr>\n",
       "      <th>4</th>\n",
       "      <td>0</td>\n",
       "      <td>Rex (voice)</td>\n",
       "      <td>52fe4284c3a36847f8024fa5</td>\n",
       "      <td>2.0</td>\n",
       "      <td>12900.0</td>\n",
       "      <td>Wallace Shawn</td>\n",
       "      <td>4.0</td>\n",
       "      <td>/oGE6JqPP2xH4tNORKNqxbNPYi7u.jpg</td>\n",
       "    </tr>\n",
       "    <tr>\n",
       "      <th>5</th>\n",
       "      <td>0</td>\n",
       "      <td>Hamm (voice)</td>\n",
       "      <td>52fe4284c3a36847f8024fa9</td>\n",
       "      <td>2.0</td>\n",
       "      <td>7907.0</td>\n",
       "      <td>John Ratzenberger</td>\n",
       "      <td>5.0</td>\n",
       "      <td>/yGechiKWL6TJDfVE2KPSJYqdMsY.jpg</td>\n",
       "    </tr>\n",
       "  </tbody>\n",
       "</table>\n",
       "</div>"
      ],
      "text/plain": [
       "   cast_id                character                 credit_id  gender  \\\n",
       "0        0            Woody (voice)  52fe4284c3a36847f8024f95     2.0   \n",
       "1        0   Buzz Lightyear (voice)  52fe4284c3a36847f8024f99     2.0   \n",
       "2        0  Mr. Potato Head (voice)  52fe4284c3a36847f8024f9d     2.0   \n",
       "3        0       Slinky Dog (voice)  52fe4284c3a36847f8024fa1     2.0   \n",
       "4        0              Rex (voice)  52fe4284c3a36847f8024fa5     2.0   \n",
       "5        0             Hamm (voice)  52fe4284c3a36847f8024fa9     2.0   \n",
       "\n",
       "        id               name  order                      profile_path  \n",
       "0     31.0          Tom Hanks    0.0  /pQFoyx7rp09CJTAb932F2g8Nlho.jpg  \n",
       "1  12898.0          Tim Allen    1.0  /uX2xVf6pMmPepxnvFWyBtjexzgY.jpg  \n",
       "2   7167.0        Don Rickles    2.0  /h5BcaDMPRVLHLDzbQavec4xfSdt.jpg  \n",
       "3  12899.0         Jim Varney    3.0  /eIo2jVVXYgjDtaHoF19Ll9vtW7h.jpg  \n",
       "4  12900.0      Wallace Shawn    4.0  /oGE6JqPP2xH4tNORKNqxbNPYi7u.jpg  \n",
       "5   7907.0  John Ratzenberger    5.0  /yGechiKWL6TJDfVE2KPSJYqdMsY.jpg  "
      ]
     },
     "execution_count": 8,
     "metadata": {},
     "output_type": "execute_result"
    }
   ],
   "source": [
    "from desanidarColumnas import desanidar_columna\n",
    "\n",
    "# UtilizaR la función definida en el archivo desanidarColumnas que esta en la carpeta code\n",
    "cast_desanidado = desanidar_columna(df, 'cast', 'cast_desanidado')\n",
    "\n",
    "cast_desanidado.head(6)"
   ]
  },
  {
   "cell_type": "code",
   "execution_count": 9,
   "metadata": {},
   "outputs": [],
   "source": [
    "# Agregar la columna id del DataFrame original (df) a cast_desanidado mediante una unión (merge) basada en la columna cast_id\n",
    "cast_desanidado = cast_desanidado.merge(df[['cast_id', 'id']], on='cast_id', how='left', suffixes=('', '_df'))"
   ]
  },
  {
   "cell_type": "code",
   "execution_count": 10,
   "metadata": {},
   "outputs": [
    {
     "name": "stdout",
     "output_type": "stream",
     "text": [
      "   cast_id                character                 credit_id  gender  \\\n",
      "0        0            Woody (voice)  52fe4284c3a36847f8024f95     2.0   \n",
      "1        0   Buzz Lightyear (voice)  52fe4284c3a36847f8024f99     2.0   \n",
      "2        0  Mr. Potato Head (voice)  52fe4284c3a36847f8024f9d     2.0   \n",
      "3        0       Slinky Dog (voice)  52fe4284c3a36847f8024fa1     2.0   \n",
      "4        0              Rex (voice)  52fe4284c3a36847f8024fa5     2.0   \n",
      "\n",
      "        id           name  order                      profile_path  id_df  \n",
      "0     31.0      Tom Hanks    0.0  /pQFoyx7rp09CJTAb932F2g8Nlho.jpg    862  \n",
      "1  12898.0      Tim Allen    1.0  /uX2xVf6pMmPepxnvFWyBtjexzgY.jpg    862  \n",
      "2   7167.0    Don Rickles    2.0  /h5BcaDMPRVLHLDzbQavec4xfSdt.jpg    862  \n",
      "3  12899.0     Jim Varney    3.0  /eIo2jVVXYgjDtaHoF19Ll9vtW7h.jpg    862  \n",
      "4  12900.0  Wallace Shawn    4.0  /oGE6JqPP2xH4tNORKNqxbNPYi7u.jpg    862  \n",
      "<class 'pandas.core.frame.DataFrame'>\n",
      "RangeIndex: 564892 entries, 0 to 564891\n",
      "Data columns (total 9 columns):\n",
      " #   Column        Non-Null Count   Dtype  \n",
      "---  ------        --------------   -----  \n",
      " 0   cast_id       564892 non-null  int64  \n",
      " 1   character     562474 non-null  object \n",
      " 2   credit_id     562474 non-null  object \n",
      " 3   gender        562474 non-null  float64\n",
      " 4   id            562474 non-null  float64\n",
      " 5   name          562474 non-null  object \n",
      " 6   order         562474 non-null  float64\n",
      " 7   profile_path  388618 non-null  object \n",
      " 8   id_df         564892 non-null  int64  \n",
      "dtypes: float64(3), int64(2), object(4)\n",
      "memory usage: 38.8+ MB\n",
      "None\n"
     ]
    }
   ],
   "source": [
    "# verificar el resultado de la unión \n",
    "print(cast_desanidado.head())\n",
    "print(cast_desanidado.info())"
   ]
  },
  {
   "cell_type": "code",
   "execution_count": 11,
   "metadata": {},
   "outputs": [
    {
     "data": {
      "text/plain": [
       "cast_id          0.000000\n",
       "character        0.428046\n",
       "credit_id        0.428046\n",
       "gender           0.428046\n",
       "id               0.428046\n",
       "name             0.428046\n",
       "order            0.428046\n",
       "profile_path    31.204903\n",
       "id_df            0.000000\n",
       "dtype: float64"
      ]
     },
     "execution_count": 11,
     "metadata": {},
     "output_type": "execute_result"
    }
   ],
   "source": [
    "# Calcular el porcentaje de valores nulos (NaN) en cada columna del DataFrame cast_desanidado\n",
    "avg_nulos = cast_desanidado.isnull().mean() * 100\n",
    "avg_nulos"
   ]
  },
  {
   "cell_type": "code",
   "execution_count": 12,
   "metadata": {},
   "outputs": [
    {
     "data": {
      "text/html": [
       "<div>\n",
       "<style scoped>\n",
       "    .dataframe tbody tr th:only-of-type {\n",
       "        vertical-align: middle;\n",
       "    }\n",
       "\n",
       "    .dataframe tbody tr th {\n",
       "        vertical-align: top;\n",
       "    }\n",
       "\n",
       "    .dataframe thead th {\n",
       "        text-align: right;\n",
       "    }\n",
       "</style>\n",
       "<table border=\"1\" class=\"dataframe\">\n",
       "  <thead>\n",
       "    <tr style=\"text-align: right;\">\n",
       "      <th></th>\n",
       "      <th>cast_id</th>\n",
       "      <th>character</th>\n",
       "      <th>credit_id</th>\n",
       "      <th>gender</th>\n",
       "      <th>id</th>\n",
       "      <th>name</th>\n",
       "      <th>order</th>\n",
       "      <th>profile_path</th>\n",
       "      <th>id_df</th>\n",
       "    </tr>\n",
       "  </thead>\n",
       "  <tbody>\n",
       "    <tr>\n",
       "      <th>2274</th>\n",
       "      <td>137</td>\n",
       "      <td>NaN</td>\n",
       "      <td>NaN</td>\n",
       "      <td>NaN</td>\n",
       "      <td>NaN</td>\n",
       "      <td>NaN</td>\n",
       "      <td>NaN</td>\n",
       "      <td>NaN</td>\n",
       "      <td>124639</td>\n",
       "    </tr>\n",
       "    <tr>\n",
       "      <th>3971</th>\n",
       "      <td>240</td>\n",
       "      <td>NaN</td>\n",
       "      <td>NaN</td>\n",
       "      <td>NaN</td>\n",
       "      <td>NaN</td>\n",
       "      <td>NaN</td>\n",
       "      <td>NaN</td>\n",
       "      <td>NaN</td>\n",
       "      <td>43475</td>\n",
       "    </tr>\n",
       "    <tr>\n",
       "      <th>6666</th>\n",
       "      <td>393</td>\n",
       "      <td>NaN</td>\n",
       "      <td>NaN</td>\n",
       "      <td>NaN</td>\n",
       "      <td>NaN</td>\n",
       "      <td>NaN</td>\n",
       "      <td>NaN</td>\n",
       "      <td>NaN</td>\n",
       "      <td>42981</td>\n",
       "    </tr>\n",
       "    <tr>\n",
       "      <th>7331</th>\n",
       "      <td>438</td>\n",
       "      <td>NaN</td>\n",
       "      <td>NaN</td>\n",
       "      <td>NaN</td>\n",
       "      <td>NaN</td>\n",
       "      <td>NaN</td>\n",
       "      <td>NaN</td>\n",
       "      <td>NaN</td>\n",
       "      <td>24257</td>\n",
       "    </tr>\n",
       "    <tr>\n",
       "      <th>10124</th>\n",
       "      <td>595</td>\n",
       "      <td>NaN</td>\n",
       "      <td>NaN</td>\n",
       "      <td>NaN</td>\n",
       "      <td>NaN</td>\n",
       "      <td>NaN</td>\n",
       "      <td>NaN</td>\n",
       "      <td>NaN</td>\n",
       "      <td>124472</td>\n",
       "    </tr>\n",
       "    <tr>\n",
       "      <th>...</th>\n",
       "      <td>...</td>\n",
       "      <td>...</td>\n",
       "      <td>...</td>\n",
       "      <td>...</td>\n",
       "      <td>...</td>\n",
       "      <td>...</td>\n",
       "      <td>...</td>\n",
       "      <td>...</td>\n",
       "      <td>...</td>\n",
       "    </tr>\n",
       "    <tr>\n",
       "      <th>564717</th>\n",
       "      <td>45447</td>\n",
       "      <td>NaN</td>\n",
       "      <td>NaN</td>\n",
       "      <td>NaN</td>\n",
       "      <td>NaN</td>\n",
       "      <td>NaN</td>\n",
       "      <td>NaN</td>\n",
       "      <td>NaN</td>\n",
       "      <td>455661</td>\n",
       "    </tr>\n",
       "    <tr>\n",
       "      <th>564759</th>\n",
       "      <td>45452</td>\n",
       "      <td>NaN</td>\n",
       "      <td>NaN</td>\n",
       "      <td>NaN</td>\n",
       "      <td>NaN</td>\n",
       "      <td>NaN</td>\n",
       "      <td>NaN</td>\n",
       "      <td>NaN</td>\n",
       "      <td>44330</td>\n",
       "    </tr>\n",
       "    <tr>\n",
       "      <th>564766</th>\n",
       "      <td>45458</td>\n",
       "      <td>NaN</td>\n",
       "      <td>NaN</td>\n",
       "      <td>NaN</td>\n",
       "      <td>NaN</td>\n",
       "      <td>NaN</td>\n",
       "      <td>NaN</td>\n",
       "      <td>NaN</td>\n",
       "      <td>122036</td>\n",
       "    </tr>\n",
       "    <tr>\n",
       "      <th>564781</th>\n",
       "      <td>45462</td>\n",
       "      <td>NaN</td>\n",
       "      <td>NaN</td>\n",
       "      <td>NaN</td>\n",
       "      <td>NaN</td>\n",
       "      <td>NaN</td>\n",
       "      <td>NaN</td>\n",
       "      <td>NaN</td>\n",
       "      <td>276895</td>\n",
       "    </tr>\n",
       "    <tr>\n",
       "      <th>564891</th>\n",
       "      <td>45475</td>\n",
       "      <td>NaN</td>\n",
       "      <td>NaN</td>\n",
       "      <td>NaN</td>\n",
       "      <td>NaN</td>\n",
       "      <td>NaN</td>\n",
       "      <td>NaN</td>\n",
       "      <td>NaN</td>\n",
       "      <td>461257</td>\n",
       "    </tr>\n",
       "  </tbody>\n",
       "</table>\n",
       "<p>2418 rows × 9 columns</p>\n",
       "</div>"
      ],
      "text/plain": [
       "        cast_id character credit_id  gender  id name  order profile_path  \\\n",
       "2274        137       NaN       NaN     NaN NaN  NaN    NaN          NaN   \n",
       "3971        240       NaN       NaN     NaN NaN  NaN    NaN          NaN   \n",
       "6666        393       NaN       NaN     NaN NaN  NaN    NaN          NaN   \n",
       "7331        438       NaN       NaN     NaN NaN  NaN    NaN          NaN   \n",
       "10124       595       NaN       NaN     NaN NaN  NaN    NaN          NaN   \n",
       "...         ...       ...       ...     ...  ..  ...    ...          ...   \n",
       "564717    45447       NaN       NaN     NaN NaN  NaN    NaN          NaN   \n",
       "564759    45452       NaN       NaN     NaN NaN  NaN    NaN          NaN   \n",
       "564766    45458       NaN       NaN     NaN NaN  NaN    NaN          NaN   \n",
       "564781    45462       NaN       NaN     NaN NaN  NaN    NaN          NaN   \n",
       "564891    45475       NaN       NaN     NaN NaN  NaN    NaN          NaN   \n",
       "\n",
       "         id_df  \n",
       "2274    124639  \n",
       "3971     43475  \n",
       "6666     42981  \n",
       "7331     24257  \n",
       "10124   124472  \n",
       "...        ...  \n",
       "564717  455661  \n",
       "564759   44330  \n",
       "564766  122036  \n",
       "564781  276895  \n",
       "564891  461257  \n",
       "\n",
       "[2418 rows x 9 columns]"
      ]
     },
     "execution_count": 12,
     "metadata": {},
     "output_type": "execute_result"
    }
   ],
   "source": [
    "# Identificar y mostrar las filas en el DataFrame cast_desanidado que tienen valores nulos en columnas específicas\n",
    "columnas_con_nulos = ['character', 'credit_id', 'gender', 'id', 'name', 'order']\n",
    "# Identificar las filas nulas.\n",
    "nulos = cast_desanidado[cast_desanidado[columnas_con_nulos].isnull().any(axis=1)]\n",
    "nulos"
   ]
  },
  {
   "cell_type": "code",
   "execution_count": 13,
   "metadata": {},
   "outputs": [],
   "source": [
    "# Eliminar las filas con valores nulos en el DataFrame cast_desanidado\n",
    "indices_nulos = nulos.index\n",
    "cast_desanidado = cast_desanidado.drop(index=indices_nulos)"
   ]
  },
  {
   "cell_type": "code",
   "execution_count": 14,
   "metadata": {},
   "outputs": [
    {
     "name": "stdout",
     "output_type": "stream",
     "text": [
      "Número de filas después de eliminar nulos: 562474\n"
     ]
    }
   ],
   "source": [
    "# Verificar el número de filas después de la eliminación\n",
    "print(f\"Número de filas después de eliminar nulos: {len(cast_desanidado)}\")"
   ]
  },
  {
   "cell_type": "markdown",
   "metadata": {},
   "source": [
    "Desanidar crew"
   ]
  },
  {
   "cell_type": "code",
   "execution_count": 15,
   "metadata": {},
   "outputs": [
    {
     "data": {
      "text/plain": [
       "crew\n",
       "<class 'str'>    45476\n",
       "Name: count, dtype: int64"
      ]
     },
     "execution_count": 15,
     "metadata": {},
     "output_type": "execute_result"
    }
   ],
   "source": [
    "# Verificar la distribución de los tipos de datos en la columna crew\n",
    "df['crew'].apply(type).value_counts()"
   ]
  },
  {
   "cell_type": "code",
   "execution_count": 16,
   "metadata": {},
   "outputs": [
    {
     "data": {
      "text/html": [
       "<div>\n",
       "<style scoped>\n",
       "    .dataframe tbody tr th:only-of-type {\n",
       "        vertical-align: middle;\n",
       "    }\n",
       "\n",
       "    .dataframe tbody tr th {\n",
       "        vertical-align: top;\n",
       "    }\n",
       "\n",
       "    .dataframe thead th {\n",
       "        text-align: right;\n",
       "    }\n",
       "</style>\n",
       "<table border=\"1\" class=\"dataframe\">\n",
       "  <thead>\n",
       "    <tr style=\"text-align: right;\">\n",
       "      <th></th>\n",
       "      <th>crew</th>\n",
       "    </tr>\n",
       "  </thead>\n",
       "  <tbody>\n",
       "    <tr>\n",
       "      <th>0</th>\n",
       "      <td>[{'credit_id': '52fe4284c3a36847f8024f49', 'de...</td>\n",
       "    </tr>\n",
       "    <tr>\n",
       "      <th>1</th>\n",
       "      <td>[{'credit_id': '52fe44bfc3a36847f80a7cd1', 'de...</td>\n",
       "    </tr>\n",
       "    <tr>\n",
       "      <th>2</th>\n",
       "      <td>[{'credit_id': '52fe466a9251416c75077a89', 'de...</td>\n",
       "    </tr>\n",
       "    <tr>\n",
       "      <th>3</th>\n",
       "      <td>[{'credit_id': '52fe44779251416c91011acb', 'de...</td>\n",
       "    </tr>\n",
       "    <tr>\n",
       "      <th>4</th>\n",
       "      <td>[{'credit_id': '52fe44959251416c75039ed7', 'de...</td>\n",
       "    </tr>\n",
       "    <tr>\n",
       "      <th>5</th>\n",
       "      <td>[{'credit_id': '52fe4292c3a36847f802916d', 'de...</td>\n",
       "    </tr>\n",
       "  </tbody>\n",
       "</table>\n",
       "</div>"
      ],
      "text/plain": [
       "                                                crew\n",
       "0  [{'credit_id': '52fe4284c3a36847f8024f49', 'de...\n",
       "1  [{'credit_id': '52fe44bfc3a36847f80a7cd1', 'de...\n",
       "2  [{'credit_id': '52fe466a9251416c75077a89', 'de...\n",
       "3  [{'credit_id': '52fe44779251416c91011acb', 'de...\n",
       "4  [{'credit_id': '52fe44959251416c75039ed7', 'de...\n",
       "5  [{'credit_id': '52fe4292c3a36847f802916d', 'de..."
      ]
     },
     "execution_count": 16,
     "metadata": {},
     "output_type": "execute_result"
    }
   ],
   "source": [
    "# convertir la columa a una lista de diccionarios\n",
    "from STRtoLISToDICT import convert_list_dict\n",
    "\n",
    "df['crew'] = df['crew'].apply(convert_list_dict)\n",
    "\n",
    "# Mostrar el DataFrame con los tipos corregidos\n",
    "df[['crew']].head(6)"
   ]
  },
  {
   "cell_type": "code",
   "execution_count": 17,
   "metadata": {},
   "outputs": [
    {
     "data": {
      "text/plain": [
       "crew\n",
       "<class 'list'>    45476\n",
       "Name: count, dtype: int64"
      ]
     },
     "execution_count": 17,
     "metadata": {},
     "output_type": "execute_result"
    }
   ],
   "source": [
    "# verificar cuántos valores en la columna crew son del tipo dict, list, o NoneType\n",
    "df['crew'].apply(type).value_counts() "
   ]
  },
  {
   "cell_type": "code",
   "execution_count": 18,
   "metadata": {},
   "outputs": [
    {
     "data": {
      "text/html": [
       "<div>\n",
       "<style scoped>\n",
       "    .dataframe tbody tr th:only-of-type {\n",
       "        vertical-align: middle;\n",
       "    }\n",
       "\n",
       "    .dataframe tbody tr th {\n",
       "        vertical-align: top;\n",
       "    }\n",
       "\n",
       "    .dataframe thead th {\n",
       "        text-align: right;\n",
       "    }\n",
       "</style>\n",
       "<table border=\"1\" class=\"dataframe\">\n",
       "  <thead>\n",
       "    <tr style=\"text-align: right;\">\n",
       "      <th></th>\n",
       "      <th>credit_id</th>\n",
       "      <th>department</th>\n",
       "      <th>gender</th>\n",
       "      <th>id</th>\n",
       "      <th>job</th>\n",
       "      <th>name</th>\n",
       "      <th>profile_path</th>\n",
       "      <th>crew_id</th>\n",
       "    </tr>\n",
       "  </thead>\n",
       "  <tbody>\n",
       "    <tr>\n",
       "      <th>0</th>\n",
       "      <td>52fe4284c3a36847f8024f49</td>\n",
       "      <td>Directing</td>\n",
       "      <td>2.0</td>\n",
       "      <td>7879.0</td>\n",
       "      <td>Director</td>\n",
       "      <td>John Lasseter</td>\n",
       "      <td>/7EdqiNbr4FRjIhKHyPPdFfEEEFG.jpg</td>\n",
       "      <td>1</td>\n",
       "    </tr>\n",
       "    <tr>\n",
       "      <th>1</th>\n",
       "      <td>52fe4284c3a36847f8024f4f</td>\n",
       "      <td>Writing</td>\n",
       "      <td>2.0</td>\n",
       "      <td>12891.0</td>\n",
       "      <td>Screenplay</td>\n",
       "      <td>Joss Whedon</td>\n",
       "      <td>/dTiVsuaTVTeGmvkhcyJvKp2A5kr.jpg</td>\n",
       "      <td>1</td>\n",
       "    </tr>\n",
       "    <tr>\n",
       "      <th>2</th>\n",
       "      <td>52fe4284c3a36847f8024f55</td>\n",
       "      <td>Writing</td>\n",
       "      <td>2.0</td>\n",
       "      <td>7.0</td>\n",
       "      <td>Screenplay</td>\n",
       "      <td>Andrew Stanton</td>\n",
       "      <td>/pvQWsu0qc8JFQhMVJkTHuexUAa1.jpg</td>\n",
       "      <td>1</td>\n",
       "    </tr>\n",
       "    <tr>\n",
       "      <th>3</th>\n",
       "      <td>52fe4284c3a36847f8024f5b</td>\n",
       "      <td>Writing</td>\n",
       "      <td>2.0</td>\n",
       "      <td>12892.0</td>\n",
       "      <td>Screenplay</td>\n",
       "      <td>Joel Cohen</td>\n",
       "      <td>/dAubAiZcvKFbboWlj7oXOkZnTSu.jpg</td>\n",
       "      <td>1</td>\n",
       "    </tr>\n",
       "    <tr>\n",
       "      <th>4</th>\n",
       "      <td>52fe4284c3a36847f8024f61</td>\n",
       "      <td>Writing</td>\n",
       "      <td>0.0</td>\n",
       "      <td>12893.0</td>\n",
       "      <td>Screenplay</td>\n",
       "      <td>Alec Sokolow</td>\n",
       "      <td>/v79vlRYi94BZUQnkkyznbGUZLjT.jpg</td>\n",
       "      <td>1</td>\n",
       "    </tr>\n",
       "    <tr>\n",
       "      <th>...</th>\n",
       "      <td>...</td>\n",
       "      <td>...</td>\n",
       "      <td>...</td>\n",
       "      <td>...</td>\n",
       "      <td>...</td>\n",
       "      <td>...</td>\n",
       "      <td>...</td>\n",
       "      <td>...</td>\n",
       "    </tr>\n",
       "    <tr>\n",
       "      <th>465080</th>\n",
       "      <td>52fe4776c3a368484e0c8399</td>\n",
       "      <td>Sound</td>\n",
       "      <td>0.0</td>\n",
       "      <td>549356.0</td>\n",
       "      <td>Original Music Composer</td>\n",
       "      <td>Richard McHugh</td>\n",
       "      <td>None</td>\n",
       "      <td>45474</td>\n",
       "    </tr>\n",
       "    <tr>\n",
       "      <th>465081</th>\n",
       "      <td>52fe4776c3a368484e0c839f</td>\n",
       "      <td>Camera</td>\n",
       "      <td>2.0</td>\n",
       "      <td>58818.0</td>\n",
       "      <td>Director of Photography</td>\n",
       "      <td>João Fernandes</td>\n",
       "      <td>None</td>\n",
       "      <td>45474</td>\n",
       "    </tr>\n",
       "    <tr>\n",
       "      <th>465082</th>\n",
       "      <td>533bccebc3a36844cf0011a7</td>\n",
       "      <td>Directing</td>\n",
       "      <td>0.0</td>\n",
       "      <td>1085341.0</td>\n",
       "      <td>Director</td>\n",
       "      <td>Yakov Protazanov</td>\n",
       "      <td>/yyjbGdCs2ZN6IlZNCfmBWyuRDlt.jpg</td>\n",
       "      <td>45475</td>\n",
       "    </tr>\n",
       "    <tr>\n",
       "      <th>465083</th>\n",
       "      <td>58ebbc26925141281908aa0a</td>\n",
       "      <td>Production</td>\n",
       "      <td>2.0</td>\n",
       "      <td>1195656.0</td>\n",
       "      <td>Producer</td>\n",
       "      <td>Joseph N. Ermolieff</td>\n",
       "      <td>None</td>\n",
       "      <td>45475</td>\n",
       "    </tr>\n",
       "    <tr>\n",
       "      <th>465084</th>\n",
       "      <td>593e676c92514105b702e68e</td>\n",
       "      <td>Directing</td>\n",
       "      <td>0.0</td>\n",
       "      <td>1344495.0</td>\n",
       "      <td>Director</td>\n",
       "      <td>Daisy Asquith</td>\n",
       "      <td>None</td>\n",
       "      <td>45476</td>\n",
       "    </tr>\n",
       "  </tbody>\n",
       "</table>\n",
       "<p>465085 rows × 8 columns</p>\n",
       "</div>"
      ],
      "text/plain": [
       "                       credit_id  department  gender         id  \\\n",
       "0       52fe4284c3a36847f8024f49   Directing     2.0     7879.0   \n",
       "1       52fe4284c3a36847f8024f4f     Writing     2.0    12891.0   \n",
       "2       52fe4284c3a36847f8024f55     Writing     2.0        7.0   \n",
       "3       52fe4284c3a36847f8024f5b     Writing     2.0    12892.0   \n",
       "4       52fe4284c3a36847f8024f61     Writing     0.0    12893.0   \n",
       "...                          ...         ...     ...        ...   \n",
       "465080  52fe4776c3a368484e0c8399       Sound     0.0   549356.0   \n",
       "465081  52fe4776c3a368484e0c839f      Camera     2.0    58818.0   \n",
       "465082  533bccebc3a36844cf0011a7   Directing     0.0  1085341.0   \n",
       "465083  58ebbc26925141281908aa0a  Production     2.0  1195656.0   \n",
       "465084  593e676c92514105b702e68e   Directing     0.0  1344495.0   \n",
       "\n",
       "                            job                 name  \\\n",
       "0                      Director        John Lasseter   \n",
       "1                    Screenplay          Joss Whedon   \n",
       "2                    Screenplay       Andrew Stanton   \n",
       "3                    Screenplay           Joel Cohen   \n",
       "4                    Screenplay         Alec Sokolow   \n",
       "...                         ...                  ...   \n",
       "465080  Original Music Composer       Richard McHugh   \n",
       "465081  Director of Photography       João Fernandes   \n",
       "465082                 Director     Yakov Protazanov   \n",
       "465083                 Producer  Joseph N. Ermolieff   \n",
       "465084                 Director        Daisy Asquith   \n",
       "\n",
       "                            profile_path  crew_id  \n",
       "0       /7EdqiNbr4FRjIhKHyPPdFfEEEFG.jpg        1  \n",
       "1       /dTiVsuaTVTeGmvkhcyJvKp2A5kr.jpg        1  \n",
       "2       /pvQWsu0qc8JFQhMVJkTHuexUAa1.jpg        1  \n",
       "3       /dAubAiZcvKFbboWlj7oXOkZnTSu.jpg        1  \n",
       "4       /v79vlRYi94BZUQnkkyznbGUZLjT.jpg        1  \n",
       "...                                  ...      ...  \n",
       "465080                              None    45474  \n",
       "465081                              None    45474  \n",
       "465082  /yyjbGdCs2ZN6IlZNCfmBWyuRDlt.jpg    45475  \n",
       "465083                              None    45475  \n",
       "465084                              None    45476  \n",
       "\n",
       "[465085 rows x 8 columns]"
      ]
     },
     "execution_count": 18,
     "metadata": {},
     "output_type": "execute_result"
    }
   ],
   "source": [
    "from desanidarColumnas import desanidar_columna\n",
    "\n",
    "# UtilizaR la función definida en el archivo desanidarColumnas que esta en la carpeta code\n",
    "crew_desanidado = desanidar_columna(df, 'crew', 'crew_desanidado',1)\n",
    "\n",
    "crew_desanidado"
   ]
  },
  {
   "cell_type": "code",
   "execution_count": 19,
   "metadata": {},
   "outputs": [],
   "source": [
    "# Agregar la columna id del DataFrame original (df) a crew_desanidado mediante una unión (merge) basada en la columna crew_id\n",
    "crew_desanidado = crew_desanidado.merge(df[['crew_id', 'id']], on='crew_id', how='left', suffixes=('', '_df'))"
   ]
  },
  {
   "cell_type": "code",
   "execution_count": 20,
   "metadata": {},
   "outputs": [
    {
     "name": "stdout",
     "output_type": "stream",
     "text": [
      "                  credit_id department  gender       id         job  \\\n",
      "0  52fe4284c3a36847f8024f49  Directing     2.0   7879.0    Director   \n",
      "1  52fe4284c3a36847f8024f4f    Writing     2.0  12891.0  Screenplay   \n",
      "2  52fe4284c3a36847f8024f55    Writing     2.0      7.0  Screenplay   \n",
      "3  52fe4284c3a36847f8024f5b    Writing     2.0  12892.0  Screenplay   \n",
      "4  52fe4284c3a36847f8024f61    Writing     0.0  12893.0  Screenplay   \n",
      "\n",
      "             name                      profile_path  crew_id  id_df  \n",
      "0   John Lasseter  /7EdqiNbr4FRjIhKHyPPdFfEEEFG.jpg        1    862  \n",
      "1     Joss Whedon  /dTiVsuaTVTeGmvkhcyJvKp2A5kr.jpg        1    862  \n",
      "2  Andrew Stanton  /pvQWsu0qc8JFQhMVJkTHuexUAa1.jpg        1    862  \n",
      "3      Joel Cohen  /dAubAiZcvKFbboWlj7oXOkZnTSu.jpg        1    862  \n",
      "4    Alec Sokolow  /v79vlRYi94BZUQnkkyznbGUZLjT.jpg        1    862  \n",
      "<class 'pandas.core.frame.DataFrame'>\n",
      "RangeIndex: 465085 entries, 0 to 465084\n",
      "Data columns (total 9 columns):\n",
      " #   Column        Non-Null Count   Dtype  \n",
      "---  ------        --------------   -----  \n",
      " 0   credit_id     464314 non-null  object \n",
      " 1   department    464314 non-null  object \n",
      " 2   gender        464314 non-null  float64\n",
      " 3   id            464314 non-null  float64\n",
      " 4   job           464314 non-null  object \n",
      " 5   name          464314 non-null  object \n",
      " 6   profile_path  95098 non-null   object \n",
      " 7   crew_id       465085 non-null  int64  \n",
      " 8   id_df         465085 non-null  int64  \n",
      "dtypes: float64(2), int64(2), object(5)\n",
      "memory usage: 31.9+ MB\n",
      "None\n"
     ]
    }
   ],
   "source": [
    "# verificar el resultado de la unión \n",
    "print(crew_desanidado.head())\n",
    "print(crew_desanidado.info())"
   ]
  },
  {
   "cell_type": "code",
   "execution_count": 21,
   "metadata": {},
   "outputs": [
    {
     "data": {
      "text/plain": [
       "credit_id        0.165776\n",
       "department       0.165776\n",
       "gender           0.165776\n",
       "id               0.165776\n",
       "job              0.165776\n",
       "name             0.165776\n",
       "profile_path    79.552555\n",
       "crew_id          0.000000\n",
       "id_df            0.000000\n",
       "dtype: float64"
      ]
     },
     "execution_count": 21,
     "metadata": {},
     "output_type": "execute_result"
    }
   ],
   "source": [
    "# Calcular el porcentaje de valores nulos (NaN) en cada columna del DataFrame crew_desanidado\n",
    "avg_nulos = crew_desanidado.isnull().mean() * 100\n",
    "avg_nulos"
   ]
  },
  {
   "cell_type": "code",
   "execution_count": 22,
   "metadata": {},
   "outputs": [
    {
     "data": {
      "text/html": [
       "<div>\n",
       "<style scoped>\n",
       "    .dataframe tbody tr th:only-of-type {\n",
       "        vertical-align: middle;\n",
       "    }\n",
       "\n",
       "    .dataframe tbody tr th {\n",
       "        vertical-align: top;\n",
       "    }\n",
       "\n",
       "    .dataframe thead th {\n",
       "        text-align: right;\n",
       "    }\n",
       "</style>\n",
       "<table border=\"1\" class=\"dataframe\">\n",
       "  <thead>\n",
       "    <tr style=\"text-align: right;\">\n",
       "      <th></th>\n",
       "      <th>credit_id</th>\n",
       "      <th>department</th>\n",
       "      <th>gender</th>\n",
       "      <th>id</th>\n",
       "      <th>job</th>\n",
       "      <th>name</th>\n",
       "      <th>profile_path</th>\n",
       "      <th>crew_id</th>\n",
       "      <th>id_df</th>\n",
       "    </tr>\n",
       "  </thead>\n",
       "  <tbody>\n",
       "    <tr>\n",
       "      <th>3486</th>\n",
       "      <td>NaN</td>\n",
       "      <td>NaN</td>\n",
       "      <td>NaN</td>\n",
       "      <td>NaN</td>\n",
       "      <td>NaN</td>\n",
       "      <td>NaN</td>\n",
       "      <td>NaN</td>\n",
       "      <td>190</td>\n",
       "      <td>56088</td>\n",
       "    </tr>\n",
       "    <tr>\n",
       "      <th>10351</th>\n",
       "      <td>NaN</td>\n",
       "      <td>NaN</td>\n",
       "      <td>NaN</td>\n",
       "      <td>NaN</td>\n",
       "      <td>NaN</td>\n",
       "      <td>NaN</td>\n",
       "      <td>NaN</td>\n",
       "      <td>615</td>\n",
       "      <td>123505</td>\n",
       "    </tr>\n",
       "    <tr>\n",
       "      <th>10527</th>\n",
       "      <td>NaN</td>\n",
       "      <td>NaN</td>\n",
       "      <td>NaN</td>\n",
       "      <td>NaN</td>\n",
       "      <td>NaN</td>\n",
       "      <td>NaN</td>\n",
       "      <td>NaN</td>\n",
       "      <td>636</td>\n",
       "      <td>339428</td>\n",
       "    </tr>\n",
       "    <tr>\n",
       "      <th>10941</th>\n",
       "      <td>NaN</td>\n",
       "      <td>NaN</td>\n",
       "      <td>NaN</td>\n",
       "      <td>NaN</td>\n",
       "      <td>NaN</td>\n",
       "      <td>NaN</td>\n",
       "      <td>NaN</td>\n",
       "      <td>662</td>\n",
       "      <td>318177</td>\n",
       "    </tr>\n",
       "    <tr>\n",
       "      <th>11387</th>\n",
       "      <td>NaN</td>\n",
       "      <td>NaN</td>\n",
       "      <td>NaN</td>\n",
       "      <td>NaN</td>\n",
       "      <td>NaN</td>\n",
       "      <td>NaN</td>\n",
       "      <td>NaN</td>\n",
       "      <td>712</td>\n",
       "      <td>365371</td>\n",
       "    </tr>\n",
       "    <tr>\n",
       "      <th>...</th>\n",
       "      <td>...</td>\n",
       "      <td>...</td>\n",
       "      <td>...</td>\n",
       "      <td>...</td>\n",
       "      <td>...</td>\n",
       "      <td>...</td>\n",
       "      <td>...</td>\n",
       "      <td>...</td>\n",
       "      <td>...</td>\n",
       "    </tr>\n",
       "    <tr>\n",
       "      <th>463769</th>\n",
       "      <td>NaN</td>\n",
       "      <td>NaN</td>\n",
       "      <td>NaN</td>\n",
       "      <td>NaN</td>\n",
       "      <td>NaN</td>\n",
       "      <td>NaN</td>\n",
       "      <td>NaN</td>\n",
       "      <td>45237</td>\n",
       "      <td>332543</td>\n",
       "    </tr>\n",
       "    <tr>\n",
       "      <th>463954</th>\n",
       "      <td>NaN</td>\n",
       "      <td>NaN</td>\n",
       "      <td>NaN</td>\n",
       "      <td>NaN</td>\n",
       "      <td>NaN</td>\n",
       "      <td>NaN</td>\n",
       "      <td>NaN</td>\n",
       "      <td>45262</td>\n",
       "      <td>28469</td>\n",
       "    </tr>\n",
       "    <tr>\n",
       "      <th>464056</th>\n",
       "      <td>NaN</td>\n",
       "      <td>NaN</td>\n",
       "      <td>NaN</td>\n",
       "      <td>NaN</td>\n",
       "      <td>NaN</td>\n",
       "      <td>NaN</td>\n",
       "      <td>NaN</td>\n",
       "      <td>45278</td>\n",
       "      <td>458618</td>\n",
       "    </tr>\n",
       "    <tr>\n",
       "      <th>464444</th>\n",
       "      <td>NaN</td>\n",
       "      <td>NaN</td>\n",
       "      <td>NaN</td>\n",
       "      <td>NaN</td>\n",
       "      <td>NaN</td>\n",
       "      <td>NaN</td>\n",
       "      <td>NaN</td>\n",
       "      <td>45349</td>\n",
       "      <td>335251</td>\n",
       "    </tr>\n",
       "    <tr>\n",
       "      <th>464566</th>\n",
       "      <td>NaN</td>\n",
       "      <td>NaN</td>\n",
       "      <td>NaN</td>\n",
       "      <td>NaN</td>\n",
       "      <td>NaN</td>\n",
       "      <td>NaN</td>\n",
       "      <td>NaN</td>\n",
       "      <td>45372</td>\n",
       "      <td>214753</td>\n",
       "    </tr>\n",
       "  </tbody>\n",
       "</table>\n",
       "<p>771 rows × 9 columns</p>\n",
       "</div>"
      ],
      "text/plain": [
       "       credit_id department  gender  id  job name profile_path  crew_id  \\\n",
       "3486         NaN        NaN     NaN NaN  NaN  NaN          NaN      190   \n",
       "10351        NaN        NaN     NaN NaN  NaN  NaN          NaN      615   \n",
       "10527        NaN        NaN     NaN NaN  NaN  NaN          NaN      636   \n",
       "10941        NaN        NaN     NaN NaN  NaN  NaN          NaN      662   \n",
       "11387        NaN        NaN     NaN NaN  NaN  NaN          NaN      712   \n",
       "...          ...        ...     ...  ..  ...  ...          ...      ...   \n",
       "463769       NaN        NaN     NaN NaN  NaN  NaN          NaN    45237   \n",
       "463954       NaN        NaN     NaN NaN  NaN  NaN          NaN    45262   \n",
       "464056       NaN        NaN     NaN NaN  NaN  NaN          NaN    45278   \n",
       "464444       NaN        NaN     NaN NaN  NaN  NaN          NaN    45349   \n",
       "464566       NaN        NaN     NaN NaN  NaN  NaN          NaN    45372   \n",
       "\n",
       "         id_df  \n",
       "3486     56088  \n",
       "10351   123505  \n",
       "10527   339428  \n",
       "10941   318177  \n",
       "11387   365371  \n",
       "...        ...  \n",
       "463769  332543  \n",
       "463954   28469  \n",
       "464056  458618  \n",
       "464444  335251  \n",
       "464566  214753  \n",
       "\n",
       "[771 rows x 9 columns]"
      ]
     },
     "execution_count": 22,
     "metadata": {},
     "output_type": "execute_result"
    }
   ],
   "source": [
    "# Identificar y mostrar las filas en el DataFrame crew_desanidado que tienen valores nulos en columnas específicas\n",
    "columnas_con_nulos = ['credit_id', 'department','gender', 'id', 'job', 'name']\n",
    "# Identificar las filas nulas.\n",
    "nulos = crew_desanidado[crew_desanidado[columnas_con_nulos].isnull().any(axis=1)]\n",
    "nulos"
   ]
  },
  {
   "cell_type": "code",
   "execution_count": 23,
   "metadata": {},
   "outputs": [],
   "source": [
    "# Eliminar las filas con valores nulos en el DataFrame cast_desanidado\n",
    "indices_nulos = nulos.index\n",
    "crew_desanidado = crew_desanidado.drop(index=indices_nulos)"
   ]
  },
  {
   "cell_type": "code",
   "execution_count": 24,
   "metadata": {},
   "outputs": [
    {
     "name": "stdout",
     "output_type": "stream",
     "text": [
      "Número de filas después de eliminar nulos: 464314\n"
     ]
    }
   ],
   "source": [
    "# Verificar el número de filas después de la eliminación\n",
    "print(f\"Número de filas después de eliminar nulos: {len(crew_desanidado)}\")"
   ]
  },
  {
   "cell_type": "markdown",
   "metadata": {},
   "source": [
    "Realizar modificaciones para el desarrollo de la API"
   ]
  },
  {
   "cell_type": "code",
   "execution_count": null,
   "metadata": {},
   "outputs": [],
   "source": [
    "# # Preparar el DataFrame para la API\n",
    "# Convertir los nombres de los actores en la columna name a minúsculas\n",
    "cast_desanidado['name'] = cast_desanidado['name'].str.lower()\n",
    "# Convertir los valores de la columna id al tipo de dato int\n",
    "cast_desanidado['id'] = cast_desanidado['id'].astype(int)"
   ]
  },
  {
   "cell_type": "code",
   "execution_count": 26,
   "metadata": {},
   "outputs": [],
   "source": [
    "# Eliminamos columnas innecesarias\n",
    "cast_desanidado = cast_desanidado.drop('profile_path', axis=1)\n",
    "cast_desanidado = cast_desanidado.drop('order', axis=1)"
   ]
  },
  {
   "cell_type": "code",
   "execution_count": 27,
   "metadata": {},
   "outputs": [],
   "source": [
    "# Eliminación de la Columna 'character', no se considera relevante\n",
    "cast_desanidado = cast_desanidado.drop('character', axis=1)"
   ]
  },
  {
   "cell_type": "code",
   "execution_count": null,
   "metadata": {},
   "outputs": [],
   "source": [
    "# Filtrar Directores (no se necesita información de otros roles)\n",
    "crew_desanidado = crew_desanidado[crew_desanidado['job'] == 'Director']"
   ]
  },
  {
   "cell_type": "code",
   "execution_count": 29,
   "metadata": {},
   "outputs": [],
   "source": [
    "# Eliminar la Columna 'department'\n",
    "crew_desanidado = crew_desanidado.drop('department', axis=1)\n",
    "# Eliminar la Columna 'profile_path'\n",
    "crew_desanidado = crew_desanidado.drop('profile_path', axis=1)"
   ]
  },
  {
   "cell_type": "code",
   "execution_count": 30,
   "metadata": {},
   "outputs": [],
   "source": [
    "# Transformar a Minúsculas y Ajustar Tipos de Datos\n",
    "crew_desanidado['name'] = crew_desanidado['name'].str.lower()\n",
    "crew_desanidado['id'] = crew_desanidado['id'].astype(int)"
   ]
  },
  {
   "cell_type": "code",
   "execution_count": 33,
   "metadata": {},
   "outputs": [
    {
     "name": "stdout",
     "output_type": "stream",
     "text": [
      "<class 'pandas.core.frame.DataFrame'>\n",
      "RangeIndex: 45476 entries, 0 to 45475\n",
      "Data columns (total 5 columns):\n",
      " #   Column   Non-Null Count  Dtype \n",
      "---  ------   --------------  ----- \n",
      " 0   cast     45476 non-null  object\n",
      " 1   crew     45476 non-null  object\n",
      " 2   id       45476 non-null  int64 \n",
      " 3   cast_id  45476 non-null  int64 \n",
      " 4   crew_id  45476 non-null  int64 \n",
      "dtypes: int64(3), object(2)\n",
      "memory usage: 1.7+ MB\n"
     ]
    }
   ],
   "source": [
    "# Verificar la estructura de los datos\n",
    "df.info()"
   ]
  },
  {
   "cell_type": "markdown",
   "metadata": {},
   "source": [
    "Load"
   ]
  },
  {
   "cell_type": "code",
   "execution_count": null,
   "metadata": {},
   "outputs": [],
   "source": [
    "# Convertir las listas desanidadas de nuevo a cadenas de texto para facilitar la exportación de los datos\n",
    "from convertListToString import lista_a_str\n",
    "\n",
    "# aplicar lista_a_str a cada elemento de las columnas cast y crew\n",
    "df['cast'] = df['cast'].apply(lista_a_str)\n",
    "df['crew'] = df['crew'].apply(lista_a_str)"
   ]
  },
  {
   "cell_type": "code",
   "execution_count": 36,
   "metadata": {},
   "outputs": [],
   "source": [
    "# # Verificar que el directorio de destino exista\n",
    "output_dir = '../data/processed_data/credits'\n",
    "os.makedirs(output_dir, exist_ok=True)"
   ]
  },
  {
   "cell_type": "markdown",
   "metadata": {},
   "source": [
    "Exportacion del DataFrame principal: \n",
    "Se crearon las tablas cast_desanidado y crew_desanidado que contienen la información necesaria y están conectadas adecuadamente con el id de movies_dataset,\n",
    "el DataFrame principal (df) ya no sea necesario"
   ]
  },
  {
   "cell_type": "markdown",
   "metadata": {},
   "source": [
    "Exportacion de las tablas extras \n",
    "(Se exportaran las tablas: cast_desanidado y crew_desanidado)"
   ]
  },
  {
   "cell_type": "code",
   "execution_count": 37,
   "metadata": {},
   "outputs": [
    {
     "name": "stdout",
     "output_type": "stream",
     "text": [
      "Datos exportados correctamente a '../data/processed_data/credits'\n"
     ]
    }
   ],
   "source": [
    "# Guardar el DataFrame cast_desanidado en un archivo Parquet\n",
    "# Definir la Ruta y Nombre del Archivo:\n",
    "parquet_path = os.path.join(output_dir, 'cast_desanidado.parquet')\n",
    "# Guardar el DataFrame \n",
    "cast_desanidado.to_parquet(parquet_path, engine='pyarrow', compression='snappy', index=False)\n",
    "\n",
    "print(\"Datos exportados correctamente a '../data/processed_data/credits'\")"
   ]
  },
  {
   "cell_type": "code",
   "execution_count": 40,
   "metadata": {},
   "outputs": [
    {
     "name": "stdout",
     "output_type": "stream",
     "text": [
      "                  credit_id  gender     id       job             name  \\\n",
      "0  52fe4284c3a36847f8024f49     2.0   7879  Director    john lasseter   \n",
      "1  52fe44bfc3a36847f80a7c7d     2.0   4945  Director     joe johnston   \n",
      "2  52fe466a9251416c75077a89     2.0  26502  Director    howard deutch   \n",
      "3  52fe44779251416c91011acb     2.0   2178  Director  forest whitaker   \n",
      "4  52fe44959251416c75039eef     2.0  56106  Director    charles shyer   \n",
      "\n",
      "   crew_id  id_df  \n",
      "0        1    862  \n",
      "1        2   8844  \n",
      "2        3  15602  \n",
      "3        4  31357  \n",
      "4        5  11862  \n"
     ]
    }
   ],
   "source": [
    "# Cargar y verificar el archivo Parquet\n",
    "cast_df = pd.read_parquet(parquet_path)\n",
    "print(cast_df.head())\n"
   ]
  },
  {
   "cell_type": "code",
   "execution_count": 38,
   "metadata": {},
   "outputs": [
    {
     "name": "stdout",
     "output_type": "stream",
     "text": [
      "Datos exportados correctamente a '../data/processed_data/credits'\n"
     ]
    }
   ],
   "source": [
    "# Guardar el DataFrame crew_desanidado en un archivo Parquet\n",
    "# Definir la Ruta y Nombre del Archivo:\n",
    "parquet_path = os.path.join(output_dir, 'crew_desanidado.parquet')\n",
    "# Guardar el DataFrame\n",
    "crew_desanidado.to_parquet(parquet_path, engine='pyarrow', compression='snappy', index=False)\n",
    "\n",
    "print(\"Datos exportados correctamente a '../data/processed_data/credits'\")"
   ]
  },
  {
   "cell_type": "code",
   "execution_count": 39,
   "metadata": {},
   "outputs": [
    {
     "name": "stdout",
     "output_type": "stream",
     "text": [
      "                  credit_id  gender     id       job             name  \\\n",
      "0  52fe4284c3a36847f8024f49     2.0   7879  Director    john lasseter   \n",
      "1  52fe44bfc3a36847f80a7c7d     2.0   4945  Director     joe johnston   \n",
      "2  52fe466a9251416c75077a89     2.0  26502  Director    howard deutch   \n",
      "3  52fe44779251416c91011acb     2.0   2178  Director  forest whitaker   \n",
      "4  52fe44959251416c75039eef     2.0  56106  Director    charles shyer   \n",
      "\n",
      "   crew_id  id_df  \n",
      "0        1    862  \n",
      "1        2   8844  \n",
      "2        3  15602  \n",
      "3        4  31357  \n",
      "4        5  11862  \n"
     ]
    }
   ],
   "source": [
    "# Cargar y verificar el archivo Parquet\n",
    "crew_df = pd.read_parquet(parquet_path)\n",
    "print(crew_df.head())\n"
   ]
  }
 ],
 "metadata": {
  "kernelspec": {
   "display_name": "proyectDS",
   "language": "python",
   "name": "python3"
  },
  "language_info": {
   "codemirror_mode": {
    "name": "ipython",
    "version": 3
   },
   "file_extension": ".py",
   "mimetype": "text/x-python",
   "name": "python",
   "nbconvert_exporter": "python",
   "pygments_lexer": "ipython3",
   "version": "3.11.10"
  }
 },
 "nbformat": 4,
 "nbformat_minor": 2
}
